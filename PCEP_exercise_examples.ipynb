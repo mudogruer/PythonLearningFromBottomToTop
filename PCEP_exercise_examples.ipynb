{
 "cells": [
  {
   "cell_type": "markdown",
   "id": "257e0763-f528-4160-82f7-4d209d24691c",
   "metadata": {},
   "source": [
    "2.1.1.6 The print function"
   ]
  },
  {
   "cell_type": "code",
   "execution_count": 1,
   "id": "346920b4-e89a-4634-8c2d-73dc3537ede8",
   "metadata": {},
   "outputs": [
    {
     "name": "stdout",
     "output_type": "stream",
     "text": [
      "Hello, Python!\n"
     ]
    }
   ],
   "source": [
    "print(\"Hello, Python!\")"
   ]
  },
  {
   "cell_type": "code",
   "execution_count": 2,
   "id": "884163f3-d644-4d37-9e1c-59e7dde5a15c",
   "metadata": {},
   "outputs": [
    {
     "name": "stdout",
     "output_type": "stream",
     "text": [
      "The itsy bitsy spider climbed up the waterspout.\n",
      "\n",
      "Down came the rain and washed the spider out.\n"
     ]
    }
   ],
   "source": [
    "print(\"The itsy bitsy spider climbed up the waterspout.\")\n",
    "print() #It puts a blank line\n",
    "print(\"Down came the rain and washed the spider out.\")"
   ]
  },
  {
   "cell_type": "code",
   "execution_count": 3,
   "id": "a071e1b7-3918-487a-979e-42ab5d4be906",
   "metadata": {},
   "outputs": [
    {
     "name": "stdout",
     "output_type": "stream",
     "text": [
      "The itsy bitsy spider\n",
      "climbed up the waterspout.\n",
      "\n",
      "Down came the rain\n",
      "and washed the spider out.\n"
     ]
    }
   ],
   "source": [
    "print(\"The itsy bitsy spider\\nclimbed up the waterspout.\") # \\n is puts an escape character\n",
    "print()\n",
    "print(\"Down came the rain\\nand washed the spider out.\")"
   ]
  },
  {
   "cell_type": "code",
   "execution_count": 5,
   "id": "a3fdc82c-8db3-42c9-83db-d508059f6241",
   "metadata": {},
   "outputs": [
    {
     "name": "stdout",
     "output_type": "stream",
     "text": [
      "My name is Python. Monty Python.*-*I am a tv series\n"
     ]
    }
   ],
   "source": [
    "print(\"My name is\", \"Python.\", end=\" \") #end=\"...\", ending of line with something.\n",
    "print(\"Monty Python.\", \"I am a tv series\", sep=\"*-*\") #sep=\"...\", putting something inside of parameters"
   ]
  },
  {
   "cell_type": "markdown",
   "id": "0e8f5d80-c7a5-43a5-a5dd-8d03f6b58410",
   "metadata": {},
   "source": [
    "2.2.1.11 Python Literals"
   ]
  },
  {
   "cell_type": "code",
   "execution_count": 6,
   "id": "67d6390f-2392-40cd-899b-3fa457267a61",
   "metadata": {},
   "outputs": [
    {
     "name": "stdout",
     "output_type": "stream",
     "text": [
      "83\n",
      "83\n",
      "83\n",
      "83\n"
     ]
    }
   ],
   "source": [
    "print(83) #integer\n",
    "print(0o123) #oktal\n",
    "print(0x53) #hexadecimal\n",
    "print(0b1010011) #binary"
   ]
  },
  {
   "cell_type": "code",
   "execution_count": 11,
   "id": "ef67abae-273c-427e-8f5e-069a6c827e53",
   "metadata": {},
   "outputs": [
    {
     "name": "stdout",
     "output_type": "stream",
     "text": [
      "4\n",
      "400000.0\n",
      "0.04\n"
     ]
    }
   ],
   "source": [
    "#Ints Vs Floats\n",
    "print(4) #Integer\n",
    "print(4E5) #Integer\n",
    "\n",
    "print(0.4) #float\n",
    "print(4E-5) #float"
   ]
  },
  {
   "cell_type": "code",
   "execution_count": 20,
   "id": "06472470-1d91-4567-9f66-b1c9cacbf100",
   "metadata": {},
   "outputs": [
    {
     "name": "stdout",
     "output_type": "stream",
     "text": [
      "I'm Mudo\n",
      "I'm Mudo\n",
      "True False\n",
      "True\n",
      "False\n"
     ]
    }
   ],
   "source": [
    "#String And Booleans\n",
    "\n",
    "print(\"I'm Mudo\") #string\n",
    "print('I\\'m Mudo') #string\n",
    "\n",
    "print(True, False) #boolean\n",
    "print(True > False)\n",
    "print(False > True)"
   ]
  },
  {
   "cell_type": "markdown",
   "id": "d278c7d3-84db-466d-91af-2f3d131b4f43",
   "metadata": {},
   "source": [
    "Operator Priorties\n",
    "\n",
    "Priority \t  Operator \t\n",
    "1 \t           ** \t\n",
    "2 \t           +, - (note: unary operators located next to the right of the power operator bind more strongly) \tunary\n",
    "3 \t           *, /, //, % \t\n",
    "4 \t           +, - \tbinary"
   ]
  },
  {
   "cell_type": "code",
   "execution_count": 21,
   "id": "6de85cf5-e7a0-4ac6-a576-795e9e5bc6bf",
   "metadata": {},
   "outputs": [
    {
     "name": "stdout",
     "output_type": "stream",
     "text": [
      "10.0\n"
     ]
    }
   ],
   "source": [
    "print((5 * ((25 % 13) + 100) / (2 * 13)) // 2) #prints 10.0"
   ]
  },
  {
   "cell_type": "code",
   "execution_count": 23,
   "id": "3f39df11-114f-42b2-a8ae-7c95cbd82f6b",
   "metadata": {},
   "outputs": [
    {
     "name": "stdout",
     "output_type": "stream",
     "text": [
      "c = 5.0\n"
     ]
    }
   ],
   "source": [
    "a = 3.0\n",
    "b = 4.0\n",
    "c = (a ** 2 + b ** 2) ** 0.5\n",
    "print(\"c =\", c)\n",
    "#The resuls is 5.0"
   ]
  },
  {
   "cell_type": "markdown",
   "id": "f4d96e1b-a8c1-47f5-8529-10c9f3eb5ed4",
   "metadata": {},
   "source": [
    "2.4.1.10 Lab exercise\n",
    "Scenario\n",
    "\n",
    "Take a look at the code in the editor: it reads a float value, puts it into a variable named x, and prints the value of a variable named y. Your task is to complete the code in order to evaluate the following expression:\n",
    "\n",
    "3x3 - 2x2 + 3x - 1\n",
    "\n",
    "The result should be assigned to y.\n",
    "\n",
    "Remember that classical algebraic notation likes to omit the multiplication operator - you need to use it explicitly. Note how we change data type to make sure that x is of type float.\n",
    "\n",
    "Keep your code clean and readable, and test it using the data we've provided, each time assigning it to the x variable (by hardcoding it). Don't be discouraged by any initial failures. Be persistent and inquisitive.\n",
    "Test Data\n",
    "Sample input\n",
    "x = 0\n",
    "x = 1\n",
    "x = -1\n",
    "\n",
    "Expected Output\n",
    "y = -1.0\n",
    "y = 3.0\n",
    "y = -9.0"
   ]
  },
  {
   "cell_type": "code",
   "execution_count": 26,
   "id": "c3e136ab-4cd2-4fb9-a5a7-dc6173cecfa9",
   "metadata": {},
   "outputs": [
    {
     "name": "stdout",
     "output_type": "stream",
     "text": [
      "y = -9.0\n"
     ]
    }
   ],
   "source": [
    "# 2.4.1.10 Lab codes\n",
    "x =  -1 # hardcode your test data here\n",
    "x = float(x)\n",
    "# write your code here\n",
    "y = 3 * x ** 3 - 2 * x ** 2 + 3 * x - 1\n",
    "print(\"y =\", y)"
   ]
  },
  {
   "cell_type": "markdown",
   "id": "b7c18d43-ecd8-4364-a077-5a4550bb1837",
   "metadata": {},
   "source": [
    "2.6.1.9 Lab exercise\n",
    "Scenario\n",
    "\n",
    "Your task is to complete the code in order to evaluate the results of four basic arithmetic operations.\n",
    "\n",
    "The results have to be printed to the console.\n",
    "\n",
    "You may not be able to protect the code from a user who wants to divide by zero. That's okay, don't worry about it for now.\n",
    "\n",
    "Test your code - does it produce the results you expect?\n",
    "\n",
    "We won't show you any test data - that would be too simple."
   ]
  },
  {
   "cell_type": "code",
   "execution_count": 27,
   "id": "4c21d04d-6993-490c-9ebc-aae38eac7df6",
   "metadata": {},
   "outputs": [
    {
     "name": "stdin",
     "output_type": "stream",
     "text": [
      " 5\n",
      " 2\n"
     ]
    },
    {
     "name": "stdout",
     "output_type": "stream",
     "text": [
      "result of addition 7.0\n",
      "result of subtraction 3.0\n",
      "result of multiplication 10.0\n",
      "result of division 2.5\n",
      "\n",
      "That's all, folks!\n"
     ]
    }
   ],
   "source": [
    "num1 = float(input())# input a float value for variable a here\n",
    "num2 = float(input())# input a float value for variable b here\n",
    "\n",
    "print(\"result of addition\",num1 + num2)# output the result of addition here\n",
    "print(\"result of subtraction\",num1 - num2)# output the result of subtraction here\n",
    "print(\"result of multiplication\",num1 * num2)# output the result of multiplication here\n",
    "print(\"result of division\",num1 / num2)# output the result of division here\n",
    "\n",
    "print(\"\\nThat's all, folks!\")"
   ]
  },
  {
   "cell_type": "markdown",
   "id": "af61245a-315b-4580-9b73-6d266ed0d8e1",
   "metadata": {},
   "source": [
    "Scenario\n",
    "\n",
    "Your task is to complete the code in order to evaluate the following expression:\n",
    "\n",
    "1 / (x + 1/(x + 1/(x + 1 / x)))\n",
    "\n",
    "The result should be assigned to y. Be careful - watch the operators and keep their priorities in mind. Don't hesitate to use as many parentheses as you need.\n",
    "\n",
    "You can use additional variables to shorten the expression (but it's not necessary). Test your code carefully.\n",
    "\n",
    "Test Data\n",
    "\n",
    "Sample input: 1\n",
    "\n",
    "Expected output:\n",
    "y = 0.6000000000000001"
   ]
  },
  {
   "cell_type": "code",
   "execution_count": null,
   "id": "991af867-4c3f-4d2f-bf4c-a88d6a011623",
   "metadata": {
    "tags": []
   },
   "outputs": [],
   "source": [
    "# x = float(input(\"Enter value for x: \"))\n",
    "\n",
    "# Write your code here.\n",
    "y = 1 / (x + 1/(x + 1/(x + 1 / x)))\n",
    "\n",
    "print(\"y =\", y)\n"
   ]
  },
  {
   "cell_type": "markdown",
   "id": "ad228a11-6073-4640-89d3-0185628068bc",
   "metadata": {},
   "source": [
    "2.6.1.11 Lab Exercise\n",
    "Scenario\n",
    "\n",
    "Your task is to prepare a simple code able to evaluate the end time of a period of time, given as a number of minutes (it could be arbitrarily large). The start time is given as a pair of hours (0..23) and minutes (0..59). The result has to be printed to the console.\n",
    "\n",
    "For example, if an event starts at 12:17 and lasts 59 minutes, it will end at 13:16.\n",
    "\n",
    "Don't worry about any imperfections in your code - it's okay if it accepts an invalid time - the most important thing is that the code produce valid results for valid input data.\n",
    "\n",
    "Test your code carefully. Hint: using the % operator may be the key to success.\n",
    "Test Data\n",
    "\n",
    "Sample input:\n",
    "12\n",
    "17\n",
    "59\n",
    "\n",
    "Expected output: 13:16"
   ]
  },
  {
   "cell_type": "markdown",
   "id": "42692a74-ace9-474e-a729-2cef4e9f3c79",
   "metadata": {},
   "source": [
    "hour = int(input(\"Starting time (hours): \"))\n",
    "mins = int(input(\"Starting time (minutes): \"))\n",
    "dura = int(input(\"Event duration (minutes): \"))\n",
    "\n",
    "# Write your code here.\n",
    "\n",
    "mins= mins + dura\n",
    "hour += mins // 60\n",
    "mins = mins % 60\n",
    "hour = hour % 24\n",
    "\n",
    "print(hour,\":\",mins)"
   ]
  },
  {
   "cell_type": "markdown",
   "id": "30b0284f-47c2-4bd6-a469-b5e02004cae3",
   "metadata": {},
   "source": [
    "3.1.1.4 Lab exercise\n",
    "Scenario\n",
    "\n",
    "Using one of the comparison operators in Python, write a simple two-line program that takes the parameter n as input, which is an integer, and prints False if n is less than 100, and True if n is greater than or equal to 100.\n",
    "\n",
    "Don't create any if blocks (we're going to talk about them very soon). Test your code using the data we've provided for you. "
   ]
  },
  {
   "cell_type": "code",
   "execution_count": 1,
   "id": "10095bbd-335e-45a6-8081-0df1af995e74",
   "metadata": {},
   "outputs": [
    {
     "name": "stdin",
     "output_type": "stream",
     "text": [
      "Please type n integer greater than or equal 100:  5\n"
     ]
    },
    {
     "name": "stdout",
     "output_type": "stream",
     "text": [
      "False\n"
     ]
    }
   ],
   "source": [
    "n = int(input(\"Please type n integer greater than or equal 100: \"))\n",
    "\n",
    "if n >= 100:\n",
    "    print(\"True\")\n",
    "else:\n",
    "    print(\"False\")"
   ]
  },
  {
   "cell_type": "markdown",
   "id": "2857f7ab-ff6d-4898-99ba-f486501f845f",
   "metadata": {},
   "source": [
    "3.1.1.10 Lab exercise\n",
    "Scenario\n",
    "\n",
    "Spathiphyllum, more commonly known as a peace lily or white sail plant, is one of the most popular indoor houseplants that filters out harmful toxins from the air. Some of the toxins that it neutralizes include benzene, formaldehyde, and ammonia.\n",
    "\n",
    "Imagine that your computer program loves these plants. Whenever it receives an input in the form of the word Spathiphyllum, it involuntarily shouts to the console the following string: \"Spathiphyllum is the best plant ever!\"\n",
    "\n",
    "Write a program that utilizes the concept of conditional execution, takes a string as input, and:\n",
    "\n",
    "    prints the sentence \"Yes - Spathiphyllum is the best plant ever!\" to the screen if the inputted string is \"Spathiphyllum\" (upper-case)\n",
    "    prints \"No, I want a big Spathiphyllum!\" if the inputted string is \"spathiphyllum\" (lower-case)\n",
    "    prints \"Spathiphyllum! Not [input]!\" otherwise. Note: [input] is the string taken as input.\n",
    "\n",
    "\n",
    "Test your code using the data we've provided for you. And get yourself a Spathiphyllum, too!"
   ]
  },
  {
   "cell_type": "code",
   "execution_count": 3,
   "id": "843fab6c-f2e4-4dc1-9e68-a3008214d04f",
   "metadata": {},
   "outputs": [
    {
     "name": "stdin",
     "output_type": "stream",
     "text": [
      " spathiphyllum\n"
     ]
    },
    {
     "name": "stdout",
     "output_type": "stream",
     "text": [
      "No, I want a big Spathiphyllum!\n"
     ]
    }
   ],
   "source": [
    "plant = input()\n",
    "\n",
    "if plant == \"Spathiphyllum\":\n",
    "    print(\"Yes - Spathiphyllum is the best plant ever!\")\n",
    "elif plant == \"spathiphyllum\":\n",
    "    print(\"No, I want a big Spathiphyllum!\")\n",
    "else:\n",
    "    print(\"Spathiphyllum! Not\",plant)"
   ]
  },
  {
   "cell_type": "markdown",
   "id": "888db5cb-b693-4be9-8472-b5d316b3a8aa",
   "metadata": {},
   "source": [
    "3.1.1.11\n",
    "Scenario\n",
    "\n",
    "Once upon a time there was a land - a land of milk and honey, inhabited by happy and prosperous people. The people paid taxes, of course - their happiness had limits. The most important tax, called the Personal Income Tax (PIT for short) had to be paid once a year, and was evaluated using the following rule:\n",
    "\n",
    "    if the citizen's income was not higher than 85,528 thalers, the tax was equal to 18% of the income minus 556 thalers and 2 cents (this was the so-called tax relief)\n",
    "    if the income was higher than this amount, the tax was equal to 14,839 thalers and 2 cents, plus 32% of the surplus over 85,528 thalers.\n",
    "\n",
    "Your task is to write a tax calculator.\n",
    "\n",
    "    It should accept one floating-point value: the income.\n",
    "    Next, it should print the calculated tax, rounded to full thalers. There's a function named round() which will do the rounding for you - you'll find it in the skeleton code in the editor.\n",
    "\n",
    "Note: this happy country never returns money to its citizens. If the calculated tax is less than zero, it only means no tax at all (the tax is equal to zero). Take this into consideration during your calculations.\n",
    "\n",
    "Look at the code in the editor - it only reads one input value and outputs a result, so you need to complete it with some smart calculations.\n",
    "\n",
    "Test your code using the data we've provided."
   ]
  },
  {
   "cell_type": "code",
   "execution_count": 5,
   "id": "aa39f328-09f5-49c2-ba14-02069d03d49c",
   "metadata": {},
   "outputs": [
    {
     "name": "stdin",
     "output_type": "stream",
     "text": [
      "Enter the annual income:  100\n"
     ]
    },
    {
     "name": "stdout",
     "output_type": "stream",
     "text": [
      "The tax is: 0 thalers\n"
     ]
    }
   ],
   "source": [
    "income = float(input(\"Enter the annual income: \"))\n",
    "\n",
    "#\n",
    "# Write your code here.\n",
    "#\n",
    "if income < 85528:\n",
    "    tax = income * 0.18 - 556.02\n",
    "    if tax <= 0:\n",
    "        tax = 0\n",
    "else:\n",
    "    tax = 14839.02 + (income - 85528)*0.32\n",
    "\n",
    "tax = round(tax, 0)\n",
    "print(\"The tax is:\", tax, \"thalers\")\n"
   ]
  },
  {
   "cell_type": "markdown",
   "id": "9bc9d950-b565-4adb-bf57-2a386cf8bb81",
   "metadata": {},
   "source": [
    "3.1.1.12 Exercise Lab\n",
    "Scenario\n",
    "\n",
    "As you surely know, due to some astronomical reasons, years may be leap or common. The former are 366 days long, while the latter are 365 days long.\n",
    "\n",
    "Since the introduction of the Gregorian calendar (in 1582), the following rule is used to determine the kind of year:\n",
    "\n",
    "    if the year number isn't divisible by four, it's a common year;\n",
    "    otherwise, if the year number isn't divisible by 100, it's a leap year;\n",
    "    otherwise, if the year number isn't divisible by 400, it's a common year;\n",
    "    otherwise, it's a leap year.\n",
    "\n",
    "Look at the code in the editor - it only reads a year number, and needs to be completed with the instructions implementing the test we've just described.\n",
    "\n",
    "The code should output one of two possible messages, which are Leap year or Common year, depending on the value entered.\n",
    "\n",
    "It would be good to verify if the entered year falls into the Gregorian era, and output a warning otherwise: Not within the Gregorian calendar period. Tip: use the != and % operators.\n",
    "\n",
    "Test your code using the data we've provided.\n",
    "Test Data\n",
    "\n",
    "Sample input: 2000\n",
    "Expected output: Leap year\n",
    "\n",
    "Sample input: 2015\n",
    "Expected output: Common year\n",
    "\n",
    "Sample input: 1999\n",
    "Expected output: Common year\n",
    "\n",
    "Sample input: 1996\n",
    "Expected output: Leap year\n",
    "\n",
    "Sample input: 1580\n",
    "Expected output: Not within the Gregorian calendar period"
   ]
  },
  {
   "cell_type": "code",
   "execution_count": 2,
   "id": "680e5e3d-19b0-4aac-8902-8c1948a47cea",
   "metadata": {},
   "outputs": [
    {
     "name": "stdin",
     "output_type": "stream",
     "text": [
      "Enter a year:  1900\n"
     ]
    },
    {
     "name": "stdout",
     "output_type": "stream",
     "text": [
      "Common Year\n"
     ]
    }
   ],
   "source": [
    "year = int(input(\"Enter a year: \"))\n",
    "\n",
    "#\n",
    "# Write your code here.\n",
    "#\n",
    "if year >= 1582:\n",
    "    if year % 4 != 0:\n",
    "        print(\"Common Year\")\n",
    "    elif year % 100 != 0:\n",
    "        print(\"Leap Year\")\n",
    "    elif year % 400 != 0:\n",
    "        print(\"Common Year\")\n",
    "    else:\n",
    "        print(\"Leap Year\")\n",
    "else:\n",
    "    print(\"Not within the Gregorian calendar period\")"
   ]
  },
  {
   "cell_type": "markdown",
   "id": "d575c565-2ba5-43ce-ac02-925f79485fe4",
   "metadata": {},
   "source": [
    "3.2.1.3 Lab exercise\n",
    "Scenario\n",
    "\n",
    "A junior magician has picked a secret number. He has hidden it in a variable named secret_number. He wants everyone who run his program to play the Guess the secret number game, and guess what number he has picked for them. Those who don't guess the number will be stuck in an endless loop forever! Unfortunately, he does not know how to complete the code.\n",
    "\n",
    "Your task is to help the magician complete the code in the editor in such a way so that the code:\n",
    "\n",
    "    will ask the user to enter an integer number;\n",
    "    will use a while loop;\n",
    "    will check whether the number entered by the user is the same as the number picked by the magician. If the number chosen by the user is different than the magician's secret number, the user should see the message \"Ha ha! You're stuck in my loop!\" and be prompted to enter a number again. If the number entered by the user matches the number picked by the magician, the number should be printed to the screen, and the magician should say the following words: \"Well done, muggle! You are free now.\"\n",
    "\n",
    "The magician is counting on you! Don't disappoint him."
   ]
  },
  {
   "cell_type": "code",
   "execution_count": 2,
   "id": "57436743-7b17-4436-add5-911da1a18f1e",
   "metadata": {},
   "outputs": [
    {
     "name": "stdout",
     "output_type": "stream",
     "text": [
      "\n",
      "+================================+\n",
      "| Welcome to my game, muggle!    |\n",
      "| Enter an integer number        |\n",
      "| and guess what number I've     |\n",
      "| picked for you.                |\n",
      "| So, what is the secret number? |\n",
      "+================================+\n",
      "\n"
     ]
    },
    {
     "name": "stdin",
     "output_type": "stream",
     "text": [
      " 444\n"
     ]
    },
    {
     "name": "stdout",
     "output_type": "stream",
     "text": [
      "Ha ha! You're stuck in my loop!\n"
     ]
    },
    {
     "name": "stdin",
     "output_type": "stream",
     "text": [
      " 212\n"
     ]
    },
    {
     "name": "stdout",
     "output_type": "stream",
     "text": [
      "Ha ha! You're stuck in my loop!\n"
     ]
    },
    {
     "name": "stdin",
     "output_type": "stream",
     "text": [
      " 4544\n"
     ]
    },
    {
     "name": "stdout",
     "output_type": "stream",
     "text": [
      "Ha ha! You're stuck in my loop!\n"
     ]
    },
    {
     "name": "stdin",
     "output_type": "stream",
     "text": [
      " 777\n"
     ]
    },
    {
     "name": "stdout",
     "output_type": "stream",
     "text": [
      "Well done, muggle! You are free now.\n"
     ]
    }
   ],
   "source": [
    "secret_number = 777\n",
    "\n",
    "print(\n",
    "\"\"\"\n",
    "+================================+\n",
    "| Welcome to my game, muggle!    |\n",
    "| Enter an integer number        |\n",
    "| and guess what number I've     |\n",
    "| picked for you.                |\n",
    "| So, what is the secret number? |\n",
    "+================================+\n",
    "\"\"\")\n",
    "while int(input()) != 777:\n",
    "    print(\"Ha ha! You're stuck in my loop!\")\n",
    "print(\"Well done, muggle! You are free now.\")"
   ]
  },
  {
   "cell_type": "markdown",
   "id": "7187c234-8fbf-4bad-90be-19b8659b9db4",
   "metadata": {},
   "source": [
    "3.2.1.6 Lab exercise\n",
    "Scenario\n",
    "\n",
    "Do you know what Mississippi is? Well, it's the name of one of the states and rivers in the United States. The Mississippi River is about 2,340 miles long, which makes it the second longest river in the United States (the longest being the Missouri River). It's so long that a single drop of water needs 90 days to travel its entire length!\n",
    "\n",
    "The word Mississippi is also used for a slightly different purpose: to count mississippily.\n",
    "\n",
    "If you're not familiar with the phrase, we're here to explain to you what it means: it's used to count seconds.\n",
    "\n",
    "The idea behind it is that adding the word Mississippi to a number when counting seconds aloud makes them sound closer to clock-time, and therefore \"one Mississippi, two Mississippi, three Mississippi\" will take approximately an actual three seconds of time! It's often used by children playing hide-and-seek to make sure the seeker does an honest count.\n",
    "\n",
    "Your task is very simple here: write a program that uses a for loop to \"count mississippily\" to five. Having counted to five, the program should print to the screen the final message \"Ready or not, here I come!\"\n",
    "\n",
    "Use the skeleton we've provided in the editor."
   ]
  },
  {
   "cell_type": "code",
   "execution_count": 3,
   "id": "02a7475a-46e9-41b8-bc02-2572b1bb3f1a",
   "metadata": {},
   "outputs": [
    {
     "name": "stdout",
     "output_type": "stream",
     "text": [
      "1 mississippily\n",
      "2 mississippily\n",
      "3 mississippily\n",
      "4 mississippily\n",
      "5 mississippily\n",
      "Ready or not, here I come!\n"
     ]
    }
   ],
   "source": [
    "import time\n",
    "\n",
    "# Write a for loop that counts to five.\n",
    "    # Body of the loop - print the loop iteration number and the word \"Mississippi\".\n",
    "    # Body of the loop - use: time.sleep(1)\n",
    "\n",
    "# Write a print function with the final message.\n",
    "for i in range(1,6):\n",
    "    print(i,\"mississippily\")\n",
    "    time.sleep(1)\n",
    "print(\"Ready or not, here I come!\")"
   ]
  },
  {
   "cell_type": "markdown",
   "id": "2cba6033-b32e-4395-8887-3a490133585d",
   "metadata": {},
   "source": [
    "3.2.1.9 Exercise Lab\n",
    "Objectives\n",
    "\n",
    "Familiarize the student with:\n",
    "\n",
    "    using the break statement in loops;\n",
    "    reflecting real-life situations in computer code.\n",
    "\n",
    "Scenario\n",
    "\n",
    "The break statement is used to exit/terminate a loop.\n",
    "\n",
    "Design a program that uses a while loop and continuously asks the user to enter a word unless the user enters \"chupacabra\" as the secret exit word, in which case the message \"You've successfully left the loop.\" should be printed to the screen, and the loop should terminate.\n",
    "\n",
    "Don't print any of the words entered by the user. Use the concept of conditional execution and the break statement."
   ]
  },
  {
   "cell_type": "code",
   "execution_count": 5,
   "id": "44ba7d5e-af98-4e4c-bf24-5c936f2e98fa",
   "metadata": {},
   "outputs": [
    {
     "name": "stdin",
     "output_type": "stream",
     "text": [
      "What is the secret word to leave the loop:  65\n"
     ]
    },
    {
     "name": "stdout",
     "output_type": "stream",
     "text": [
      "Wrong word, try again\n"
     ]
    },
    {
     "name": "stdin",
     "output_type": "stream",
     "text": [
      "What is the secret word to leave the loop:  54\n"
     ]
    },
    {
     "name": "stdout",
     "output_type": "stream",
     "text": [
      "Wrong word, try again\n"
     ]
    },
    {
     "name": "stdin",
     "output_type": "stream",
     "text": [
      "What is the secret word to leave the loop:  5\n"
     ]
    },
    {
     "name": "stdout",
     "output_type": "stream",
     "text": [
      "Wrong word, try again\n"
     ]
    },
    {
     "name": "stdin",
     "output_type": "stream",
     "text": [
      "What is the secret word to leave the loop:  chupacabra\n"
     ]
    },
    {
     "name": "stdout",
     "output_type": "stream",
     "text": [
      "You've successfully left the loop.\n"
     ]
    }
   ],
   "source": [
    "while True:\n",
    "    if input(\"What is the secret word to leave the loop: \") == \"chupacabra\":\n",
    "        print(\"You've successfully left the loop.\")\n",
    "        break\n",
    "    else:\n",
    "        print(\"Wrong word, try again\")"
   ]
  },
  {
   "cell_type": "markdown",
   "id": "df6b3f30-bf7b-4292-8c85-81e575b7bf76",
   "metadata": {},
   "source": [
    "3.2.1.10 Lab exercise\n",
    "\n",
    "Objectives\n",
    "\n",
    "Familiarize the student with:\n",
    "\n",
    "    using the continue statement in loops;\n",
    "    reflecting real-life situations in computer code.\n",
    "\n",
    "Scenario\n",
    "\n",
    "The continue statement is used to skip the current block and move ahead to the next iteration, without executing the statements inside the loop.\n",
    "\n",
    "It can be used with both the while and for loops.\n",
    "\n",
    "Your task here is very special: you must design a vowel eater! Write a program that uses:\n",
    "\n",
    "    a for loop;\n",
    "    the concept of conditional execution (if-elif-else)\n",
    "    the continue statement.\n",
    "\n",
    "Your program must:\n",
    "\n",
    "    ask the user to enter a word;\n",
    "    use user_word = user_word.upper() to convert the word entered by the user to upper case; we'll talk about the so-called string methods and the upper() method very soon - don't worry;\n",
    "    use conditional execution and the continue statement to \"eat\" the following vowels A, E, I, O, U from the inputted word;\n",
    "    print the uneaten letters to the screen, each one of them on a separate line.\n",
    "\n",
    "Test your program with the data we've provided for you.\n",
    "\n",
    "Test data\n",
    "\n",
    "Sample input: Gregory\n",
    "\n",
    "Expected output: \n",
    "G\n",
    "R\n",
    "G\n",
    "R\n",
    "Y"
   ]
  },
  {
   "cell_type": "code",
   "execution_count": 6,
   "id": "13cef74e-e823-4561-87df-e53a7afca98e",
   "metadata": {},
   "outputs": [
    {
     "name": "stdin",
     "output_type": "stream",
     "text": [
      " mustafa dogruer\n"
     ]
    },
    {
     "name": "stdout",
     "output_type": "stream",
     "text": [
      "M\n",
      "S\n",
      "T\n",
      "F\n",
      " \n",
      "D\n",
      "G\n",
      "R\n",
      "R\n"
     ]
    }
   ],
   "source": [
    "# Prompt the user to enter a word\n",
    "# and assign it to the user_word variable.\n",
    "user_word = input()\n",
    "user_word = user_word.upper()\n",
    "\n",
    "for letter in user_word:\n",
    "    # Complete the body of the for loop.\n",
    "    if letter == \"A\":\n",
    "        continue\n",
    "    elif letter == \"E\":\n",
    "        continue\n",
    "    elif letter == \"I\":\n",
    "        continue\n",
    "    elif letter == \"O\":\n",
    "        continue\n",
    "    elif letter == \"U\":\n",
    "        continue\n",
    "    else:\n",
    "        print(letter)\n"
   ]
  },
  {
   "cell_type": "markdown",
   "id": "0d1a12d3-d569-4dd6-9f5c-a364536ee12a",
   "metadata": {},
   "source": [
    "3.1.2.11 Lab exercise\n",
    "Scenario\n",
    "\n",
    "Your task here is even more special than before: you must redesign the (ugly) vowel eater from the previous lab (3.1.2.10) and create a better, upgraded (pretty) vowel eater! Write a program that uses:\n",
    "\n",
    "    a for loop;\n",
    "    the concept of conditional execution (if-elif-else)\n",
    "    the continue statement.\n",
    "\n",
    "Your program must:\n",
    "\n",
    "    ask the user to enter a word;\n",
    "    use user_word = user_word.upper() to convert the word entered by the user to upper case; we'll talk about the so-called string methods and the upper() method very soon - don't worry;\n",
    "    use conditional execution and the continue statement to \"eat\" the following vowels A, E, I, O, U from the inputted word;\n",
    "    assign the uneaten letters to the word_without_vowels variable and print the variable to the screen.\n",
    "\n",
    "Look at the code in the editor. We've created word_without_vowels and assigned an empty string to it. Use concatenation operation to ask Python to combine selected letters into a longer string during subsequent loop turns, and assign it to the word_without_vowels variable.\n",
    "\n",
    "Test your program with the data we've provided for you.\n",
    "\n",
    "Test data\n",
    "\n",
    "Sample input: Gregory\n",
    "\n",
    "Expected output:\n",
    "GRGRY"
   ]
  },
  {
   "cell_type": "code",
   "execution_count": 7,
   "id": "2550ebbb-5e8f-4843-aaaf-2ae97e523bd1",
   "metadata": {},
   "outputs": [
    {
     "name": "stdin",
     "output_type": "stream",
     "text": [
      " mustafa dogruer\n"
     ]
    },
    {
     "name": "stdout",
     "output_type": "stream",
     "text": [
      "MSTF DGRR\n"
     ]
    }
   ],
   "source": [
    "word_without_vowels = \"\"\n",
    "\n",
    "# Prompt the user to enter a word\n",
    "# and assign it to the user_word variable.\n",
    "\n",
    "user_word = input()\n",
    "user_word = user_word.upper()\n",
    "\n",
    "for letter in user_word:\n",
    "    # Complete the body of the loop.\n",
    "    if letter == \"A\":\n",
    "        continue\n",
    "    elif letter == \"E\":\n",
    "        continue\n",
    "    elif letter == \"I\":\n",
    "        continue\n",
    "    elif letter == \"O\":\n",
    "        continue\n",
    "    elif letter == \"U\":\n",
    "        continue\n",
    "    else:\n",
    "        word_without_vowels += letter\n",
    "\n",
    "# Print the word assigned to word_without_vowels.\n",
    "print(word_without_vowels)\n"
   ]
  },
  {
   "cell_type": "markdown",
   "id": "8d736c77-141e-4c60-8314-ede4084e60b9",
   "metadata": {},
   "source": [
    "3.2.1.44 Lab Exercise\n",
    "\n",
    "Objectives\n",
    "\n",
    "Familiarize the student with:\n",
    "\n",
    "    using the while loop;\n",
    "    finding the proper implementation of verbally defined rules;\n",
    "    reflecting real-life situations in computer code.\n",
    "\n",
    "Scenario\n",
    "\n",
    "Listen to this story: a boy and his father, a computer programmer, are playing with wooden blocks. They are building a pyramid.\n",
    "\n",
    "Their pyramid is a bit weird, as it is actually a pyramid-shaped wall - it's flat. The pyramid is stacked according to one simple principle: each lower layer contains one block more than the layer above.\n",
    "\n",
    "The figure illustrates the rule used by the builders:\n",
    "\n",
    "\n",
    "Your task is to write a program which reads the number of blocks the builders have, and outputs the height of the pyramid that can be built using these blocks.\n",
    "\n",
    "Note: the height is measured by the number of fully completed layers - if the builders don't have a sufficient number of blocks and cannot complete the next layer, they finish their work immediately.\n",
    "\n",
    "Test your code using the data we've provided."
   ]
  },
  {
   "cell_type": "code",
   "execution_count": 13,
   "id": "2aeac44b-77c0-44e8-8c47-05cb639cdc02",
   "metadata": {},
   "outputs": [
    {
     "name": "stdin",
     "output_type": "stream",
     "text": [
      "Enter the number of blocks:  2\n"
     ]
    },
    {
     "name": "stdout",
     "output_type": "stream",
     "text": [
      "The height of the pyramid: 1\n"
     ]
    }
   ],
   "source": [
    "blocks = int(input(\"Enter the number of blocks: \"))\n",
    "\n",
    "#This code calculates height of a triangle pyramid which it is\n",
    "#consist of  layers have 1 more block than preceding layer\n",
    "\n",
    "\n",
    "height = 0\n",
    "while blocks > height:\n",
    "    height += 1\n",
    "    blocks -= height\n",
    "\n",
    "#it ignores leftover blocks\n",
    "print(\"The height of the pyramid:\", height)"
   ]
  },
  {
   "cell_type": "markdown",
   "id": "d8bd5713-35ec-4442-9ddd-dfa152890040",
   "metadata": {},
   "source": [
    "3.2.1.15 Lab Exercise\n",
    "\n",
    "Scenario\n",
    "\n",
    "In 1937, a German mathematician named Lothar Collatz formulated an intriguing hypothesis (it still remains unproven) which can be described in the following way:\n",
    "\n",
    "    take any non-negative and non-zero integer number and name it c0;\n",
    "    if it's even, evaluate a new c0 as c0 ÷ 2;\n",
    "    otherwise, if it's odd, evaluate a new c0 as 3 × c0 + 1;\n",
    "    if c0 ≠ 1, skip to point 2.\n",
    "\n",
    "The hypothesis says that regardless of the initial value of c0, it will always go to 1.\n",
    "\n",
    "Of course, it's an extremely complex task to use a computer in order to prove the hypothesis for any natural number (it may even require artificial intelligence), but you can use Python to check some individual numbers. Maybe you'll even find the one which would disprove the hypothesis.\n",
    "\n",
    "Write a program which reads one natural number and executes the above steps as long as c0 remains different from 1. We also want you to count the steps needed to achieve the goal. Your code should output all the intermediate values of c0, too.\n",
    "\n",
    "Hint: the most important part of the problem is how to transform Collatz's idea into a while loop - this is the key to success.\n",
    "\n",
    "Test your code using the data we've provided.\n",
    "Test Data\n",
    "\n",
    "Sample input: 15\n",
    "\n",
    "Expected output:\n",
    "46\n",
    "23\n",
    "70\n",
    "35\n",
    "106\n",
    "53\n",
    "160\n",
    "80\n",
    "40\n",
    "20\n",
    "10\n",
    "5\n",
    "16\n",
    "8\n",
    "4\n",
    "2\n",
    "1\n",
    "steps = 17"
   ]
  },
  {
   "cell_type": "code",
   "execution_count": 17,
   "id": "7634a40a-d746-4bfd-b8ee-cfb407086552",
   "metadata": {},
   "outputs": [
    {
     "name": "stdin",
     "output_type": "stream",
     "text": [
      " 2\n"
     ]
    },
    {
     "name": "stdout",
     "output_type": "stream",
     "text": [
      "1\n",
      "steps =  1\n"
     ]
    }
   ],
   "source": [
    "c0 = int(input())\n",
    "steps = 0\n",
    "\n",
    "while c0!=1:\n",
    "    steps += 1\n",
    "    \n",
    "    if c0 % 2 == 0:\n",
    "        c0 = c0 // 2\n",
    "    else:\n",
    "        c0 = 3 * c0 + 1\n",
    "    print(c0)\n",
    "print(\"steps = \",steps)"
   ]
  },
  {
   "cell_type": "markdown",
   "id": "7f8ce7a1-62c8-48bc-a0be-1309d0f17bb5",
   "metadata": {},
   "source": [
    "3.4.1.6 Lab Exercise\n",
    "Scenario\n",
    "\n",
    "There once was a hat. The hat contained no rabbit, but a list of five numbers: 1, 2, 3, 4, and 5.\n",
    "\n",
    "Your task is to:\n",
    "\n",
    "    write a line of code that prompts the user to replace the middle number in the list with an integer number entered by the user (Step 1)\n",
    "    write a line of code that removes the last element from the list (Step 2)\n",
    "    write a line of code that prints the length of the existing list (Step 3).\n",
    "\n",
    "Ready for this challenge?"
   ]
  },
  {
   "cell_type": "code",
   "execution_count": 18,
   "id": "a33eb976-766f-4dc7-8994-33095bea9060",
   "metadata": {},
   "outputs": [
    {
     "name": "stdout",
     "output_type": "stream",
     "text": [
      "[1, 2, 3, 4, 5]\n"
     ]
    },
    {
     "name": "stdin",
     "output_type": "stream",
     "text": [
      " -785\n"
     ]
    },
    {
     "name": "stdout",
     "output_type": "stream",
     "text": [
      "[1, 2, -785, 4, 5]\n",
      "4\n",
      "[1, 2, -785, 4]\n"
     ]
    }
   ],
   "source": [
    "hat_list = [1, 2, 3, 4, 5]  # This is an existing list of numbers hidden in the hat.\n",
    "\n",
    "# Step 1: write a line of code that prompts the user\n",
    "# to replace the middle number with an integer number entered by the user.\n",
    "print(hat_list)\n",
    "hat_list[len(hat_list)//2] = int(input())\n",
    "print(hat_list)\n",
    "# Step 2: write a line of code that removes the last element from the list.\n",
    "del hat_list[len(hat_list)-1]\n",
    "\n",
    "# Step 3: write a line of code that prints the length of the existing list.\n",
    "print(len(hat_list))\n",
    "print(hat_list)"
   ]
  },
  {
   "cell_type": "markdown",
   "id": "dcf467e5-42b3-48d4-8341-7a114cb24139",
   "metadata": {},
   "source": [
    "3.4.1.13 Lab exercise\n",
    "Scenario\n",
    "\n",
    "The Beatles were one of the most popular music group of the 1960s, and the best-selling band in history. Some people consider them to be the most influential act of the rock era. Indeed, they were included in Time magazine's compilation of the 20th Century's 100 most influential people.\n",
    "\n",
    "The band underwent many line-up changes, culminating in 1962 with the line-up of John Lennon, Paul McCartney, George Harrison, and Richard Starkey (better known as Ringo Starr).\n",
    "\n",
    "Write a program that reflects these changes and lets you practice with the concept of lists. Your task is to:\n",
    "\n",
    "    step 1: create an empty list named beatles;\n",
    "    step 2: use the append() method to add the following members of the band to the list: John Lennon, Paul McCartney, and George Harrison;\n",
    "    step 3: use the for loop and the append() method to prompt the user to add the following members of the band to the list: Stu Sutcliffe, and Pete Best;\n",
    "    step 4: use the del instruction to remove Stu Sutcliffe and Pete Best from the list;\n",
    "    step 5: use the insert() method to add Ringo Starr to the beginning of the list.\n",
    "\n",
    "By the way, are you a Beatles fan? (The Beatles is one of Greg's favorite bands. But wait...who's Greg...?)"
   ]
  },
  {
   "cell_type": "code",
   "execution_count": 19,
   "id": "0d755015-5380-4565-96c7-1d9608a91bce",
   "metadata": {},
   "outputs": [
    {
     "name": "stdout",
     "output_type": "stream",
     "text": [
      "Step 1: []\n",
      "Step 2: ['John Lennon', 'Paul McCartney', 'George Harrison']\n"
     ]
    },
    {
     "name": "stdin",
     "output_type": "stream",
     "text": [
      " stu\n",
      " pete\n"
     ]
    },
    {
     "name": "stdout",
     "output_type": "stream",
     "text": [
      "Step 3: ['John Lennon', 'Paul McCartney', 'George Harrison', 'stu', 'pete']\n",
      "Step 4: ['John Lennon', 'Paul McCartney', 'George Harrison']\n",
      "Step 5: ['Ringo Starr', 'John Lennon', 'Paul McCartney', 'George Harrison']\n",
      "The Fab 4\n"
     ]
    }
   ],
   "source": [
    "# step 1\n",
    "beatles = []\n",
    "print(\"Step 1:\", beatles)\n",
    "\n",
    "# step 2\n",
    "beatles.append(\"John Lennon\")\n",
    "beatles.append(\"Paul McCartney\")\n",
    "beatles.append(\"George Harrison\")\n",
    "print(\"Step 2:\", beatles)\n",
    "\n",
    "# step 3\n",
    "for i in range(0,2):\n",
    "    beatles.append(input())\n",
    "print(\"Step 3:\", beatles)\n",
    "\n",
    "# step 4\n",
    "del beatles[-1]\n",
    "del beatles[-1]\n",
    "print(\"Step 4:\", beatles)\n",
    "\n",
    "# step 5\n",
    "beatles.insert(0,\"Ringo Starr\")\n",
    "print(\"Step 5:\", beatles)\n",
    "\n",
    "\n",
    "# testing list legth\n",
    "print(\"The Fab\", len(beatles))\n"
   ]
  },
  {
   "cell_type": "markdown",
   "id": "fe96802d-0f2d-4a6b-8123-84b0bb0c1636",
   "metadata": {},
   "source": [
    "3.6.1.9 Lab Exercise\n",
    "Objectives\n",
    "\n",
    "Familiarize the student with:\n",
    "\n",
    "    list indexing;\n",
    "    utilizing the in and not in operators.\n",
    "\n",
    "Scenario\n",
    "\n",
    "Imagine a list - not very long, not very complicated, just a simple list containing some integer numbers. Some of these numbers may be repeated, and this is the clue. We don't want any repetitions. We want them to be removed.\n",
    "\n",
    "Your task is to write a program which removes all the number repetitions from the list. The goal is to have a list in which all the numbers appear not more than once.\n",
    "\n",
    "Note: assume that the source list is hard-coded inside the code - you don't have to enter it from the keyboard. Of course, you can improve the code and add a part that can carry out a conversation with the user and obtain all the data from her/him.\n",
    "\n",
    "Hint: we encourage you to create a new list as a temporary work area - you don't need to update the list in situ.\n",
    "\n",
    "We've provided no test data, as that would be too easy. You can use our skeleton instead."
   ]
  },
  {
   "cell_type": "code",
   "execution_count": 20,
   "id": "33b30ae1-87c0-4bcd-91cb-93341d103ead",
   "metadata": {},
   "outputs": [
    {
     "name": "stdout",
     "output_type": "stream",
     "text": [
      "The list with unique elements only:\n",
      "[1, 4, 6, 2, 9]\n"
     ]
    }
   ],
   "source": [
    "my_list = [1, 2, 4, 4, 1, 4, 2, 6, 2, 9]\n",
    "#\n",
    "# Write your code here.\n",
    "#\n",
    "new_list = []\n",
    "for i in range(len(my_list)):\n",
    "    if my_list[i] not in my_list[i+1:]:\n",
    "        new_list.append(my_list[i])\n",
    "\n",
    "my_list = new_list[:]\n",
    "print(\"The list with unique elements only:\")\n",
    "print(my_list)\n"
   ]
  },
  {
   "cell_type": "markdown",
   "id": "980c98cf-61b9-4223-9383-8493cb6dc279",
   "metadata": {},
   "source": [
    "4.3.1.6 Lab Exercise\n",
    "Scenario\n",
    "\n",
    "Your task is to write and test a function which takes one argument (a year) and returns True if the year is a leap year, or False otherwise.\n",
    "\n",
    "The seed of the function is already sown in the skeleton code in the editor.\n",
    "\n",
    "Note: we've also prepared a short testing code, which you can use to test your function.\n",
    "\n",
    "The code uses two lists - one with the test data, and the other containing the expected results. The code will tell you if any of your results are invalid.\n"
   ]
  },
  {
   "cell_type": "code",
   "execution_count": 3,
   "id": "1ec60063-d07b-4aa5-9e46-1f5c92bc9719",
   "metadata": {},
   "outputs": [
    {
     "name": "stdout",
     "output_type": "stream",
     "text": [
      "1900 ->OK\n",
      "2000 ->OK\n",
      "2016 ->OK\n",
      "1987 ->OK\n"
     ]
    }
   ],
   "source": [
    "def is_year_leap(year):\n",
    "#\n",
    "# put your code here\n",
    "#\n",
    "    if year >= 1582:\n",
    "        if year % 4 != 0:\n",
    "            return False\n",
    "        elif year % 100 != 0:\n",
    "            return True\n",
    "        elif year % 400 != 0:\n",
    "            return False\n",
    "        else:\n",
    "            return True\n",
    "    else:\n",
    "        return False\n",
    " \n",
    "\n",
    "test_data = [1900, 2000, 2016, 1987]\n",
    "test_results = [False, True, True, False]\n",
    "for i in range(len(test_data)):\n",
    "\tyr = test_data[i]\n",
    "\tprint(yr,\"->\",end=\"\")\n",
    "\tresult = is_year_leap(yr)\n",
    "\tif result == test_results[i]:\n",
    "\t\tprint(\"OK\")\n",
    "\telse:\n",
    "\t\tprint(\"Failed\")\n"
   ]
  },
  {
   "cell_type": "markdown",
   "id": "c8866be4-231c-495f-b749-6b0291d8752e",
   "metadata": {},
   "source": [
    "4.1.3.7 Lab Exercise\n",
    "Scenario\n",
    "\n",
    "Your task is to write and test a function which takes two arguments (a year and a month) and returns the number of days for the given month/year pair (while only February is sensitive to the year value, your function should be universal).\n",
    "\n",
    "The initial part of the function is ready. Now, convince the function to return None if its arguments don't make sense.\n",
    "\n",
    "Of course, you can (and should) use the previously written and tested function (LAB 4.3.1.6). It may be very helpful. We encourage you to use a list filled with the months' lengths. You can create it inside the function - this trick will significantly shorten the code.\n",
    "\n",
    "We've prepared a testing code. Expand it to include more test cases"
   ]
  },
  {
   "cell_type": "code",
   "execution_count": 4,
   "id": "62f60203-3dd1-45c0-868f-f595765f4e76",
   "metadata": {},
   "outputs": [
    {
     "name": "stdout",
     "output_type": "stream",
     "text": [
      "1900 2 ->OK\n",
      "2000 2 ->OK\n",
      "2016 1 ->OK\n",
      "1987 11 ->OK\n"
     ]
    }
   ],
   "source": [
    "def is_year_leap(year):\n",
    "#\n",
    "# Your code from LAB 4.3.1.6.\n",
    "#\n",
    "    if year >= 1582:\n",
    "        if year % 4 != 0:\n",
    "            return False\n",
    "        elif year % 100 != 0:\n",
    "            return True\n",
    "        elif year % 400 != 0:\n",
    "            return False\n",
    "        else:\n",
    "            return True\n",
    "    else:\n",
    "        return False\n",
    "\n",
    "def days_in_month(year, month):\n",
    "#\n",
    "# Write your new code here.\n",
    "#\n",
    "    days_in_leap_years   = [31,29,31,30,31,30,31,31,30,31,30,31]\n",
    "    days_in_common_years = [31,28,31,30,31,30,31,31,30,31,30,31]\n",
    "    \n",
    "    if is_year_leap(year)==True:\n",
    "        return days_in_leap_years[month-1]\n",
    "    else:\n",
    "        return days_in_common_years[month-1]\n",
    "\n",
    "test_years = [1900, 2000, 2016, 1987]\n",
    "test_months = [2, 2, 1, 11]\n",
    "test_results = [28, 29, 31, 30]\n",
    "for i in range(len(test_years)):\n",
    "\tyr = test_years[i]\n",
    "\tmo = test_months[i]\n",
    "\tprint(yr, mo, \"->\", end=\"\")\n",
    "\tresult = days_in_month(yr, mo)\n",
    "\tif result == test_results[i]:\n",
    "\t\tprint(\"OK\")\n",
    "\telse:\n",
    "\t\tprint(\"Failed\")\n"
   ]
  },
  {
   "cell_type": "markdown",
   "id": "d9cc787c-fdcf-4f6b-830e-5ea52ea66580",
   "metadata": {},
   "source": [
    "Objectives\n",
    "\n",
    "Familiarize the student with:\n",
    "\n",
    "    projecting and writing parameterized functions;\n",
    "    utilizing the return statement;\n",
    "    building a set of utility functions;\n",
    "    utilizing the student's own functions.\n",
    "\n",
    "Scenario\n",
    "\n",
    "Your task is to write and test a function which takes three arguments (a year, a month, and a day of the month) and returns the corresponding day of the year, or returns None if any of the arguments is invalid.\n",
    "\n",
    "Use the previously written and tested functions. Add some test cases to the code. This test is only a beginning."
   ]
  },
  {
   "cell_type": "code",
   "execution_count": 15,
   "id": "525075b5-4c32-432d-8a0f-5e92aaabe659",
   "metadata": {},
   "outputs": [
    {
     "name": "stdout",
     "output_type": "stream",
     "text": [
      "Saturday\n"
     ]
    }
   ],
   "source": [
    "def is_year_leap(year):\n",
    "#\n",
    "# Your code from LAB 4.3.1.6.\n",
    "#\n",
    "    if year >= 1582:\n",
    "        if year % 4 != 0:\n",
    "            return False\n",
    "        elif year % 100 != 0:\n",
    "            return True\n",
    "        elif year % 400 != 0:\n",
    "            return False\n",
    "        else:\n",
    "            return True\n",
    "    else:\n",
    "        return False\n",
    "\n",
    "def days_in_month(year, month):\n",
    "#\n",
    "# Your code from LAB 4.3.1.7.\n",
    "#\n",
    "    days_in_leap_years   = [31,29,31,30,31,30,31,31,30,31,30,31]\n",
    "    days_in_common_years = [31,28,31,30,31,30,31,31,30,31,30,31]\n",
    "    \n",
    "    if is_year_leap(year)==True:\n",
    "        return days_in_leap_years[month-1]\n",
    "    else:\n",
    "        return days_in_common_years[month-1]\n",
    "        \n",
    "def day_of_year(year, month, day):\n",
    "#\n",
    "# Write your new code here.\n",
    "#\n",
    "#I used John Convey's algorithm here\n",
    "\n",
    "    day_codes   = [1,2,3,4,5,6,7]   #Monday to sunday\n",
    "    days = [\"Sunday\",\"Monday\",\"Tuesday\",\"Wednesday\",\"Thursday\",\"Friday\",\"Saturday\"]\n",
    "    month_codes = [1,4,4,7,2,5,7,3,6,1,4,6] #January to December\n",
    "    date_code = day\n",
    "    \n",
    "    if days_in_month(year,month) >= date_code:\n",
    "        year_code = year % 100\n",
    "        d = (date_code % 7) + month_codes[month-1] + (year_code%7) + ((year_code // 4) % 7)\n",
    "        return days[d % 7 - 2]\n",
    "    else:\n",
    "        return None\n",
    "print(day_of_year(1992, 1, 4))\n"
   ]
  },
  {
   "cell_type": "markdown",
   "id": "8e961b21-c374-45aa-8369-20d8c46d32c1",
   "metadata": {},
   "source": [
    "4.3.1.9 Lab Exercise\n",
    "Scenario\n",
    "\n",
    "A natural number is prime if it is greater than 1 and has no divisors other than 1 and itself.\n",
    "\n",
    "Complicated? Not at all. For example, 8 isn't a prime number, as you can divide it by 2 and 4 (we can't use divisors equal to 1 and 8, as the definition prohibits this).\n",
    "\n",
    "On the other hand, 7 is a prime number, as we can't find any legal divisors for it.\n",
    "\n",
    "Your task is to write a function checking whether a number is prime or not.\n",
    "\n",
    "The function:\n",
    "\n",
    "    is called is_prime;\n",
    "    takes one argument (the value to check)\n",
    "    returns True if the argument is a prime number, and False otherwise.\n",
    "\n",
    "Hint: try to divide the argument by all subsequent values (starting from 2) and check the remainder - if it's zero, your number cannot be a prime; think carefully about when you should stop the process.\n",
    "\n",
    "If you need to know the square root of any value, you can utilize the ** operator. Remember: the square root of x is the same as x0.5\n",
    "\n",
    "Complete the code in the editor.\n",
    "\n",
    "Run your code and check whether your output is the same as ours.\n",
    "Expected output\n",
    "\n",
    "2 3 5 7 11 13 17 19"
   ]
  },
  {
   "cell_type": "code",
   "execution_count": 16,
   "id": "f6a438fa-55cf-42a2-bf83-eb0a808169ec",
   "metadata": {},
   "outputs": [
    {
     "name": "stdout",
     "output_type": "stream",
     "text": [
      "2 3 5 7 11 13 17 19 \n"
     ]
    }
   ],
   "source": [
    "def is_prime(num):\n",
    "#\n",
    "# Write your code here.\n",
    "#\n",
    "    if num == 2 :\n",
    "        return True\n",
    "    else:\n",
    "        for i in range(2,num):\n",
    "            if num % i == 0:\n",
    "                return False\n",
    "        return True\n",
    "\n",
    "for i in range(1, 20):\n",
    "\tif is_prime(i + 1):\n",
    "\t\t\tprint(i + 1, end=\" \")\n",
    "print()\n"
   ]
  },
  {
   "cell_type": "markdown",
   "id": "f570e9b4-fef2-4ab5-85f6-69e94c371588",
   "metadata": {},
   "source": [
    "4.3.1.10 Lab Exercise\n",
    "\n",
    "Scenario\n",
    "\n",
    "A car's fuel consumption may be expressed in many different ways. For example, in Europe, it is shown as the amount of fuel consumed per 100 kilometers.\n",
    "\n",
    "In the USA, it is shown as the number of miles traveled by a car using one gallon of fuel.\n",
    "\n",
    "Your task is to write a pair of functions converting l/100km into mpg, and vice versa.\n",
    "\n",
    "The functions:\n",
    "\n",
    "    are named liters_100km_to_miles_gallon and miles_gallon_to_liters_100km respectively;\n",
    "    take one argument (the value corresponding to their names)\n",
    "\n",
    "Complete the code in the editor.\n",
    "\n",
    "Run your code and check whether your output is the same as ours.\n",
    "\n",
    "Here is some information to help you:\n",
    "\n",
    "    1 American mile = 1609.344 metres;\n",
    "    1 American gallon = 3.785411784 litres. \n",
    "\n",
    "Expected output\n",
    "\n",
    "60.31143162393162\n",
    "31.36194444444444\n",
    "23.52145833333333\n",
    "3.9007393587617467\n",
    "7.490910297239916\n",
    "10.009131205673757"
   ]
  },
  {
   "cell_type": "code",
   "execution_count": 17,
   "id": "d7f1d4c5-cd68-490b-934d-e85a51196a14",
   "metadata": {},
   "outputs": [
    {
     "name": "stdout",
     "output_type": "stream",
     "text": [
      "60.38685215106793\n",
      "31.40116311855532\n",
      "23.55087233891649\n",
      "3.9007393587617467\n",
      "7.490910297239915\n",
      "10.009131205673757\n"
     ]
    }
   ],
   "source": [
    "def liters_100km_to_miles_gallon(liters):\n",
    "#\n",
    "# Write your code here.\n",
    "#\n",
    "    gallon = liters / 3.785411784\n",
    "    km_to_miles = 100 / 1.607334\n",
    "    liters_to_gallon = liters / 3.785411784\n",
    "    \n",
    "    return (km_to_miles / liters_to_gallon)\n",
    "\n",
    "def miles_gallon_to_liters_100km(miles):\n",
    "#\n",
    "# Write your code here\n",
    "#\n",
    "    miles_to_km = miles * 1.609344\n",
    "    gallon_to_liters = 3.785411784\n",
    "    \n",
    "    return 100*gallon_to_liters / miles_to_km\n",
    "    \n",
    "print(liters_100km_to_miles_gallon(3.9))\n",
    "print(liters_100km_to_miles_gallon(7.5))\n",
    "print(liters_100km_to_miles_gallon(10.))\n",
    "print(miles_gallon_to_liters_100km(60.3))\n",
    "print(miles_gallon_to_liters_100km(31.4))\n",
    "print(miles_gallon_to_liters_100km(23.5))\n"
   ]
  },
  {
   "cell_type": "code",
   "execution_count": null,
   "id": "e6dd9020-33d8-485c-9b59-79b83e47cce5",
   "metadata": {},
   "outputs": [],
   "source": []
  }
 ],
 "metadata": {
  "kernelspec": {
   "display_name": "Python 3 (ipykernel)",
   "language": "python",
   "name": "python3"
  },
  "language_info": {
   "codemirror_mode": {
    "name": "ipython",
    "version": 3
   },
   "file_extension": ".py",
   "mimetype": "text/x-python",
   "name": "python",
   "nbconvert_exporter": "python",
   "pygments_lexer": "ipython3",
   "version": "3.10.4"
  }
 },
 "nbformat": 4,
 "nbformat_minor": 5
}
